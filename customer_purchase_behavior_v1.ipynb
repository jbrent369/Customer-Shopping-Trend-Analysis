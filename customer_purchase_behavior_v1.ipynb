{
 "cells": [
  {
   "cell_type": "code",
   "execution_count": null,
   "id": "3eb57a4a-5a3e-46d5-9f18-fd3c20c133d1",
   "metadata": {},
   "outputs": [],
   "source": [
    "import pandas as pd\n",
    "import plotly.express as px\n",
    "from plotly.subplots import make_subplots\n",
    "import json\n",
    "import plotly.graph_objects as go\n",
    "from datetime import datetime\n",
    "import folium\n",
    "from folium import plugins\n",
    "import seaborn as sns\n",
    "import matplotlib.pyplot as plt\n",
    "import folium\n",
    "from folium.plugins import HeatMap"
   ]
  },
  {
   "cell_type": "code",
   "execution_count": null,
   "id": "b672a8ed-5bf8-4e55-bd8d-fe0279921937",
   "metadata": {},
   "outputs": [],
   "source": [
    "df=pd.read_csv(r'shopping_trends.csv')\n",
    "df"
   ]
  },
  {
   "cell_type": "code",
   "execution_count": null,
   "id": "4524c1b8-3633-458c-a967-5c6c6db24dc2",
   "metadata": {},
   "outputs": [],
   "source": [
    "df.info()"
   ]
  },
  {
   "cell_type": "code",
   "execution_count": null,
   "id": "608b2e9f-1f12-4c8d-b460-688c034f003a",
   "metadata": {},
   "outputs": [],
   "source": [
    "df['Purchase Amount (USD)']=df['Purchase Amount (USD)'].astype(float)"
   ]
  },
  {
   "cell_type": "code",
   "execution_count": null,
   "id": "ae2bafbc-1b08-46a0-8430-076420244ddc",
   "metadata": {},
   "outputs": [],
   "source": [
    "df.info()"
   ]
  },
  {
   "cell_type": "code",
   "execution_count": null,
   "id": "bcf2a47c-36aa-4801-b8ec-44b038b7c452",
   "metadata": {},
   "outputs": [],
   "source": [
    "df.head()"
   ]
  },
  {
   "cell_type": "code",
   "execution_count": null,
   "id": "7bb15a73-24ac-4023-beb1-dfb346730219",
   "metadata": {},
   "outputs": [],
   "source": [
    "df_gender_count = df.groupby('Gender').size().reset_index(name='Count')\n",
    "df_gender_count"
   ]
  },
  {
   "cell_type": "code",
   "execution_count": null,
   "id": "bea7606e-a035-4516-9d9a-660b1e5690b5",
   "metadata": {},
   "outputs": [],
   "source": [
    "fig_gender_count_pie = px.pie(df_gender_count, \n",
    "                        values = 'Count', \n",
    "                        names = 'Gender',\n",
    "                        title = 'Total Number of Orders by Gender',\n",
    "                        color='Gender',\n",
    "                        hole=0.3, height = 300, width = 600,\n",
    "                              color_discrete_map={\n",
    "                                 'Male': 'dodgerblue',\n",
    "                                 'Female': 'orangered'\n",
    "                             })\n",
    "fig_gender_count_pie.update_traces(textposition='inside',\n",
    "                             textinfo='label+value+percent')\n",
    "fig_gender_count_pie.update_layout(\n",
    "    paper_bgcolor='white',  # Transparent background\n",
    "    plot_bgcolor='white',  # Transparent plot area\n",
    "    showlegend=False,\n",
    "    margin=dict(t=50, b=30),\n",
    "    \n",
    ")\n",
    "fig_gender_count_pie"
   ]
  },
  {
   "cell_type": "code",
   "execution_count": null,
   "id": "a7baa404-60a6-4074-9e96-4f7605e1d3b7",
   "metadata": {},
   "outputs": [],
   "source": [
    "df_gender_purchase_amount = df.pivot_table(index='Gender', values='Purchase Amount (USD)', aggfunc='sum').reset_index()\n",
    "df_gender_purchase_amount['Purchase Amount (in Thousand Dollars)'] = df_gender_purchase_amount['Purchase Amount (USD)'].apply(lambda x: f\"{x/1_000:.2f}K\")\n",
    "df_gender_purchase_amount = df_gender_purchase_amount.sort_values(by='Purchase Amount (USD)', ascending=False).reset_index(drop=True)\n",
    "\n",
    "print(df_gender_purchase_amount)"
   ]
  },
  {
   "cell_type": "code",
   "execution_count": null,
   "id": "e0611f00-0a5e-4707-b863-38cf2ee1cbf9",
   "metadata": {},
   "outputs": [],
   "source": [
    "fig_gender_amount_bar = px.bar(df_gender_purchase_amount,\n",
    "                               x='Gender', \n",
    "                               y='Purchase Amount (USD)',\n",
    "                               title='Total Purchase Amount by Gender (in Thousand Dollars)',\n",
    "                               text='Purchase Amount (in Thousand Dollars)', \n",
    "                               height=350, width=600,\n",
    "                               color='Gender',\n",
    "                               color_discrete_map={\n",
    "                                 'Male': 'dodgerblue',\n",
    "                                 'Female': 'orangered'}, \n",
    "                              )\n",
    "\n",
    "fig_gender_amount_bar.update_layout(\n",
    "    paper_bgcolor='white',  # Transparent background\n",
    "    plot_bgcolor='white',  # Transparent plot area\n",
    "    showlegend=False,\n",
    "    margin = dict(b=30)\n",
    "    \n",
    ")\n",
    "fig_gender_amount_bar"
   ]
  },
  {
   "cell_type": "code",
   "execution_count": null,
   "id": "e4c0fdab-88e2-434c-90bc-6f8ab5e80712",
   "metadata": {},
   "outputs": [],
   "source": [
    "bins = [18, 24, 34, 44, 54, 64, 71]\n",
    "labels = ['18-24', '25-34', '35-44', '45-54', '55-64','65-70']\n",
    "df['Age Group'] = pd.cut(df['Age'], bins=bins, labels=labels, right=False)"
   ]
  },
  {
   "cell_type": "code",
   "execution_count": null,
   "id": "509b64bd-9029-49fa-afaa-95db09c09dee",
   "metadata": {},
   "outputs": [],
   "source": [
    "df_age_group_order_bin = df.groupby(['Age Group','Gender'], observed=True).size().reset_index(name='Count')\n",
    "total_per_age_group = df_age_group_order_bin.groupby('Age Group', observed=True)['Count'].sum().reset_index()\n",
    "print(df_age_group_order_bin)\n",
    "print(total_per_age_group)"
   ]
  },
  {
   "cell_type": "code",
   "execution_count": null,
   "id": "6d4defe1-1b38-4e25-b690-7fb6714ca760",
   "metadata": {
    "scrolled": true
   },
   "outputs": [],
   "source": [
    "fig_age_group_bin_order_bar = px.bar(df_age_group_order_bin, \n",
    "                                     x='Age Group', \n",
    "                                     y='Count', \n",
    "                                     title='Number of Orders by Age Group and Gender', \n",
    "                                     color = 'Gender',\n",
    "                                     text = 'Count',\n",
    "                                     barmode='stack', \n",
    "                                     color_discrete_map={\n",
    "                                         'Male': 'dodgerblue',\n",
    "                                         'Female': 'orangered'}, height=300, width=600 )\n",
    "# Add annotations for the totals\n",
    "for i, row in total_per_age_group.iterrows():\n",
    "    fig_age_group_bin_order_bar.add_annotation(\n",
    "        x=row['Age Group'],\n",
    "        y=row['Count'],\n",
    "        text=str(row['Count']),\n",
    "        showarrow=False,\n",
    "        font=dict(size=12, color='black'),\n",
    "        xanchor='center',\n",
    "        yanchor='bottom'\n",
    "    )\n",
    "\n",
    "fig_age_group_bin_order_bar.update_layout(\n",
    "    paper_bgcolor='white',  # Transparent background\n",
    "    plot_bgcolor='white',  # Transparent plot area\n",
    "    barmode='stack',\n",
    "    yaxis={'showgrid':True, 'gridcolor':'LightGray'}\n",
    ")\n",
    "\n",
    "fig_age_group_bin_order_bar"
   ]
  },
  {
   "cell_type": "code",
   "execution_count": null,
   "id": "4785f0a9-bc13-4f82-9dfa-b784e2c806b7",
   "metadata": {},
   "outputs": [],
   "source": [
    "df_category_orders = df.groupby(['Category','Gender'], observed=True).size().reset_index(name='count')\n",
    "df_category_orders['Count'] = df_category_orders['count'].apply(lambda x: f\"{x:,}\")\n",
    "df_category_orders = df_category_orders.sort_values(by='count', ascending=True).reset_index(drop=True)\n",
    "\n",
    "total_category_orders = df_category_orders.groupby('Category', observed=True)['count'].sum().reset_index()\n",
    "total_category_orders['Count'] = total_category_orders['count'].apply(lambda x: f\"{x:,}\")\n",
    "total_category_orders = total_category_orders.sort_values(by='count', ascending=True).reset_index(drop=True)\n",
    "\n",
    "print(df_category_orders)\n",
    "print(total_category_orders)"
   ]
  },
  {
   "cell_type": "code",
   "execution_count": null,
   "id": "f3b3ab66-bafb-43a8-a721-e4090bc8fb21",
   "metadata": {},
   "outputs": [],
   "source": [
    "fig_category_orders = px.bar(df_category_orders, \n",
    "                             x='count', \n",
    "                             y='Category', \n",
    "                             title = 'Order Count by Category and Gender',\n",
    "                             text='count', \n",
    "                             color='Gender', \n",
    "                             orientation='h',\n",
    "                             height=300,\n",
    "                             width=700,\n",
    "                             barmode='stack', \n",
    "                             color_discrete_map={\n",
    "                                 'Male': 'dodgerblue',\n",
    "                                 'Female': 'orangered'\n",
    "                             })\n",
    "\n",
    "\n",
    "\n",
    "# Add annotations for the \n",
    "for i, row in total_category_orders.iterrows():\n",
    "    fig_category_orders.add_annotation(\n",
    "        x=row['count'],\n",
    "        y=row['Category'],\n",
    "        text=str(row['Count']),\n",
    "        showarrow=False,\n",
    "        font=dict(size=12, color='black'),\n",
    "        xanchor='left',\n",
    "        yanchor='middle'\n",
    "    )\n",
    "\n",
    "fig_category_orders.update_layout(\n",
    "    paper_bgcolor='white',  # Transparent background\n",
    "    plot_bgcolor='white',  # Transparent plot area\n",
    "    xaxis={'showgrid':True, 'gridcolor':'LightGray'}\n",
    ")\n",
    "\n",
    "\n",
    "fig_category_orders"
   ]
  },
  {
   "cell_type": "code",
   "execution_count": null,
   "id": "57a8aa77-8571-4109-87ee-7d8e86d1c315",
   "metadata": {},
   "outputs": [],
   "source": [
    "df_category_purchase_amount = df.pivot_table(index=['Category'], values='Purchase Amount (USD)', aggfunc = 'sum').reset_index()\n",
    "df_category_purchase_amount['Purchase Amount (in Thousand Dollars)'] = df_category_purchase_amount['Purchase Amount (USD)'].apply(lambda x: f\"{x/1_000}K\")\n",
    "df_category_purchase_amount = df_category_purchase_amount.sort_values(by='Purchase Amount (USD)', ascending=True).reset_index(drop=True)\n",
    "\n",
    "total_category_purchase_amount = df_category_purchase_amount.groupby(['Category'], observed=True)['Purchase Amount (USD)'].sum().reset_index()\n",
    "total_category_purchase_amount['Purchase Amount (in Thousand Dollars)'] = total_category_purchase_amount['Purchase Amount (USD)'].apply(lambda x: f\"{x / 1_000:.2f}K\")\n",
    "total_category_purchase_amount = total_category_purchase_amount.sort_values(by='Purchase Amount (USD)', ascending=True).reset_index(drop=True)\n",
    "\n",
    "print(df_category_purchase_amount)\n",
    "print(total_category_purchase_amount)"
   ]
  },
  {
   "cell_type": "code",
   "execution_count": null,
   "id": "8da07ae7-e95a-4fe5-97ff-e795b7ef56df",
   "metadata": {},
   "outputs": [],
   "source": [
    "fig_category_purchase_amount = px.bar(df_category_purchase_amount, \n",
    "                                      x='Purchase Amount (USD)', \n",
    "                                      y='Category', \n",
    "                                      title = 'Total Purchase Amount by Category (in Thousand Dollars)',\n",
    "                                      text='Purchase Amount (in Thousand Dollars)', \n",
    "                                      orientation='h', \n",
    "                                      height=300,\n",
    "                                      width=700)\n",
    "\n",
    "fig_category_purchase_amount.update_traces(\n",
    "    texttemplate='%{text}', \n",
    "    textposition='inside',\n",
    "    textangle=0,\n",
    "    textfont_size=10\n",
    ")\n",
    "\n",
    "\n",
    "fig_category_purchase_amount.update_layout(\n",
    "    paper_bgcolor='white',  # Transparent background\n",
    "    plot_bgcolor='white',  # Transparent plot area\n",
    "    xaxis={'showgrid':True, 'gridcolor':'LightGray'}\n",
    ")\n",
    "\n",
    "fig_category_purchase_amount"
   ]
  },
  {
   "cell_type": "code",
   "execution_count": null,
   "id": "b4a6091a-8709-4840-9fde-948cdfd29d72",
   "metadata": {},
   "outputs": [],
   "source": [
    "df_item_purchased_count = df.groupby(['Item Purchased','Gender'], observed=True).size().reset_index(name='Count')\n",
    "df_item_purchased_count = df_item_purchased_count.sort_values(by=['Count'], ascending=True).reset_index(drop=True)\n",
    "\n",
    "total_counts = df_item_purchased_count.groupby('Item Purchased')['Count'].sum().reset_index()\n",
    "total_counts = total_counts.sort_values(by='Count', ascending=True).reset_index(drop=True)\n",
    "\n",
    "# Merge the sorted total counts back to the original DataFrame\n",
    "df_item_purchased_count = df_item_purchased_count.merge(total_counts, on='Item Purchased', suffixes=('', '_Total'))\n",
    "\n",
    "# Sort the DataFrame by the total count to maintain the order in the bar chart\n",
    "df_item_purchased_count = df_item_purchased_count.sort_values(by='Count_Total', ascending=True).reset_index(drop=True)\n",
    "\n",
    "\n",
    "print(total_counts)\n",
    "print(df_item_purchased_count)"
   ]
  },
  {
   "cell_type": "code",
   "execution_count": null,
   "id": "39ba8cd8-21d9-48a6-8d02-a8f087360637",
   "metadata": {},
   "outputs": [],
   "source": [
    "fig_item_purchased_count = px.bar(df_item_purchased_count, \n",
    "                                  x='Count', y='Item Purchased',  \n",
    "                                  title='Order Count by Items and Gender',\n",
    "                                  orientation='h',\n",
    "                                  text='Count',\n",
    "                                  height=600, width=450,\n",
    "                                  barmode='stack', \n",
    "                                  color='Gender',\n",
    "                                  color_discrete_map={'Male': 'dodgerblue','Female': 'orangered'}\n",
    ")\n",
    "\n",
    "for i, row in total_counts.iterrows():\n",
    "    fig_item_purchased_count.add_annotation(\n",
    "        x=row['Count'],\n",
    "        y=row['Item Purchased'],\n",
    "        text=str(row['Count']),\n",
    "        showarrow=False,\n",
    "        font=dict(size=12, color='black'),\n",
    "        xanchor='left',\n",
    "        yanchor='middle'\n",
    "    )\n",
    "\n",
    "fig_item_purchased_count.update_layout(\n",
    "    paper_bgcolor='white',  # Transparent background\n",
    "    plot_bgcolor='white',  # Transparent plot area\n",
    "    xaxis={'showgrid':True, 'gridcolor':'LightGray'},\n",
    "    legend=dict(\n",
    "        orientation='h',  # Horizontal\n",
    "        yanchor='bottom', \n",
    "        y=-0.2,  # Position below the plot\n",
    "        xanchor='center',\n",
    "        x=0.5  # Centered horizontally\n",
    "    ),\n",
    "    margin=dict(t=40, b=10, r=20)\n",
    ")\n",
    "fig_item_purchased_count"
   ]
  },
  {
   "cell_type": "code",
   "execution_count": null,
   "id": "6ff78023-8e60-46cf-820c-c8814a06ef0b",
   "metadata": {},
   "outputs": [],
   "source": [
    "df_item_purchased_amount=df.pivot_table(index='Item Purchased', values='Purchase Amount (USD)', aggfunc='sum').reset_index()\n",
    "df_item_purchased_amount = df_item_purchased_amount.sort_values(by='Purchase Amount (USD)', ascending=True).reset_index(drop=True)\n",
    "df_item_purchased_amount['Purchase Amount (in Thousand Dollars)'] = df_item_purchased_amount['Purchase Amount (USD)'].apply(lambda x: f\"{x/1_000:.2f}K\")\n",
    "\n",
    "\n",
    "print(df_item_purchased_amount)"
   ]
  },
  {
   "cell_type": "code",
   "execution_count": null,
   "id": "dd77b66f-15d3-4588-9c7b-e2a4cb18c919",
   "metadata": {},
   "outputs": [],
   "source": [
    "fig_item_purchase_amount = px.bar(df_item_purchased_amount, \n",
    "                                   x='Purchase Amount (USD)', \n",
    "                                   y='Item Purchased', \n",
    "                                   title='Total Amount Purchased by Item',\n",
    "                                   orientation='h', \n",
    "                                   text='Purchase Amount (in Thousand Dollars)',\n",
    "                                   height=600, width=450)\n",
    "\n",
    "fig_item_purchase_amount.update_layout(\n",
    "    paper_bgcolor='white',  # Transparent background\n",
    "    plot_bgcolor='white',  # Transparent plot area\n",
    "    xaxis={'showgrid':True, 'gridcolor':'LightGray'},\n",
    "    margin=dict(t=40,b=30, r=20)\n",
    ")\n",
    "\n",
    "fig_item_purchase_amount"
   ]
  },
  {
   "cell_type": "code",
   "execution_count": null,
   "id": "320951a1-a96d-4d34-9d4d-49fb7077283c",
   "metadata": {},
   "outputs": [],
   "source": [
    "df_location = df.pivot_table(index='Location', values=['Customer ID','Purchase Amount (USD)'], aggfunc={'Customer ID':'count','Purchase Amount (USD)':'sum'}).reset_index()\n",
    "df_location['Purchase Amount (in Thousand Dollars)']=df_location['Purchase Amount (USD)'].apply(lambda x: F\"{x/1_000:.2f}K\")\n",
    "df_location.columns=['Location','Order Count','Purchase Amount (USD)','Purchase Amount (in Thousand Dollars)']\n",
    "df_location['Latitude']=[32.806671, 61.370716, 33.729759, 34.969704, 36.116203, 39.059811, 41.597782, 39.318523, 27.766279, 33.040619, 21.094318, 44.240459, 40.349457, 39.849426, 42.011539, 38.5266, 37.66814, 31.169546, 44.693947, 39.063946, 42.230171, 43.326618, 45.694454, 32.741646, 38.456085, 46.921925, 41.12537, 38.313515, 43.452492, 40.298904, 34.840515, 42.165726, 35.630066, 47.528912, 40.388783, 35.565342, 44.572021, 40.590752, 41.680893, 33.856892, 44.299782, 35.747845, 31.054487, 40.150032, 44.045876, 37.769337, 47.400902, 38.491226, 44.268543, 42.755966]\n",
    "df_location['Longitude']=[-86.79113, -152.404419, -111.431221, -92.373123, -119.681564, -105.311104, -72.755371, -75.507141, -81.686783, -83.643074, -157.498337, -114.478828, -88.986137, -86.258278, -93.210526, -96.726486, -84.670067, -91.867805, -69.381927, -76.802101, -71.530106, -84.536095, -93.900192, -89.678696, -92.288368, -110.454353, -98.268082, -117.055374, -71.563896, -74.521011, -106.248482, -74.948051, -79.806419, -99.784012, -82.764915, -96.928917, -122.070938, -77.209755, -71.51178, -80.945007, -99.438828, -86.692345, -97.563461, -111.862434, -72.710686, -78.169968, -121.490494, -80.954456, -89.616508, -107.30249]\n",
    "df_location"
   ]
  },
  {
   "cell_type": "code",
   "execution_count": null,
   "id": "84fa753a-85d9-4c31-adf7-e1f38136fd77",
   "metadata": {},
   "outputs": [],
   "source": [
    "\n",
    "\n",
    "# Create the base map\n",
    "map_location = folium.Map(location=[37.0902, -95.7129], zoom_start=5)\n",
    "\n",
    "# Create a Choropleth layer\n",
    "folium.Choropleth(\n",
    "    geo_data='us-states.json',  # Path to GeoJSON file\n",
    "    name='choropleth',\n",
    "    data=df_location,\n",
    "    columns=['Location', 'Order Count'],\n",
    "    key_on='feature.properties.name',\n",
    "    fill_color='Blues',\n",
    "    fill_opacity=0.7,\n",
    "    line_opacity=0.2,\n",
    "    legend_name='ORder Count'\n",
    ").add_to(map_location)\n",
    "\n",
    "# Save the map to an HTML file\n",
    "map_location.save(\"choropleth_map.html\")\n"
   ]
  },
  {
   "cell_type": "code",
   "execution_count": null,
   "id": "afa7365a-bc24-4b83-b763-33fa20a61310",
   "metadata": {},
   "outputs": [],
   "source": [
    "df_location_sorted_order = df_location.sort_values(by=['Order Count'], ascending=False).reset_index(drop=True)\n",
    "df_location_sorted_order"
   ]
  },
  {
   "cell_type": "code",
   "execution_count": null,
   "id": "15dd3af6-5e7e-4e9a-af9a-a892cbd3b911",
   "metadata": {},
   "outputs": [],
   "source": [
    "fig_order_per_location = px.bar(df_location_sorted_order, x='Location', y='Order Count',\n",
    "                                title='Order Count by State', text='Order Count', height=400, width=1200,)\n",
    "\n",
    "fig_order_per_location.update_layout(\n",
    "    paper_bgcolor='white',  # Transparent background\n",
    "    plot_bgcolor='white',  # Transparent plot area\n",
    "    yaxis={'showgrid':True, 'gridcolor':'LightGray'},\n",
    "    margin=dict(t=40, b=10, r=20)\n",
    ")\n",
    "\n",
    "fig_order_per_location"
   ]
  },
  {
   "cell_type": "code",
   "execution_count": null,
   "id": "97363210-a673-4f62-82dd-49ae72d7288c",
   "metadata": {},
   "outputs": [],
   "source": [
    "df_location_sorted_amount = df_location.sort_values(by=['Purchase Amount (USD)'], ascending=False).reset_index(drop=True)\n",
    "df_location_sorted_amount"
   ]
  },
  {
   "cell_type": "code",
   "execution_count": null,
   "id": "fa4c0976-8d76-4680-8d08-0f51a72d17ad",
   "metadata": {},
   "outputs": [],
   "source": [
    "fig_order_per_location_amount = px.bar(df_location_sorted_amount, x='Location', y='Purchase Amount (USD)',\n",
    "                                       title='Total Purchase Amount by State (in Thousand Dollars)', \n",
    "                                       text='Purchase Amount (in Thousand Dollars)', height=400, width=1200,)\n",
    "\n",
    "fig_order_per_location_amount.update_layout(\n",
    "    paper_bgcolor='white',  # Transparent background\n",
    "    plot_bgcolor='white',  # Transparent plot area\n",
    "    yaxis={'showgrid':True, 'gridcolor':'LightGray'},\n",
    "    margin=dict(t=40, b=10, r=20)\n",
    ")\n",
    "\n",
    "fig_order_per_location_amount"
   ]
  },
  {
   "cell_type": "code",
   "execution_count": null,
   "id": "a300b5df-f901-4f6d-ae1b-4b3639360b88",
   "metadata": {},
   "outputs": [],
   "source": [
    "df_sizes = df.groupby('Size', observed=True).size().reset_index(name='Count')\n",
    "df_sizes"
   ]
  },
  {
   "cell_type": "code",
   "execution_count": null,
   "id": "54c1cf42-1e79-41bb-b8f1-fa6fd44db529",
   "metadata": {},
   "outputs": [],
   "source": [
    "fig_pie_sizes = px.pie(df_sizes, values='Count', names='Size', title = 'Order Distribution by Sizes',\n",
    "                        hole=0.3, height = 350, width = 400)\n",
    "fig_pie_sizes.update_traces(textposition='inside',\n",
    "                             textinfo='label+value+percent')\n",
    "fig_pie_sizes.update_layout(\n",
    "    paper_bgcolor='white',  # Transparent background\n",
    "    plot_bgcolor='white',  # Transparent plot area\n",
    "    showlegend=False,\n",
    "    margin=dict(t=50, b=30),\n",
    "    \n",
    ")\n",
    "fig_pie_sizes"
   ]
  },
  {
   "cell_type": "code",
   "execution_count": null,
   "id": "d8e45fd7-c9fb-42a6-afdf-b23313a7395f",
   "metadata": {},
   "outputs": [],
   "source": [
    "df_color = df.groupby('Color', observed=True).size().reset_index(name='Count')\n",
    "df_color = df_color.sort_values(by='Count', ascending=False).reset_index(drop=True)\n",
    "df_color_top5 = df_color.head(5)\n",
    "print(df_color_top5)"
   ]
  },
  {
   "cell_type": "code",
   "execution_count": null,
   "id": "395f0926-5e7e-45c9-a5c9-5faf8c156c1c",
   "metadata": {},
   "outputs": [],
   "source": [
    "fig_color = px.bar(df_color_top5, x='Color', y='Count', text='Count', height=350, width=400,\n",
    "                   title='Top 5 Most Popular Colors',  color='Color',\n",
    "                                  color_discrete_map={'Olive': 'olive','Yellow': 'yellow','Silver':'silver', 'Teal':'teal', 'Green':'green'})\n",
    "\n",
    "fig_color.update_layout(\n",
    "    paper_bgcolor='white',  # Transparent background\n",
    "    plot_bgcolor='white',  # Transparent plot area\n",
    "    xaxis={'showgrid':True, 'gridcolor':'LightGray'},\n",
    "    margin=dict(t=40, b=10, r=20),\n",
    "    showlegend=False\n",
    ")\n",
    "fig_color"
   ]
  },
  {
   "cell_type": "code",
   "execution_count": null,
   "id": "eea7f4a3-fa95-4a4f-8875-02ab593282ba",
   "metadata": {},
   "outputs": [],
   "source": [
    "df_season=df.groupby('Season', observed=True).size().reset_index(name='Count')\n",
    "df_season"
   ]
  },
  {
   "cell_type": "code",
   "execution_count": null,
   "id": "d902518d-0422-4e2b-b26e-7a397847d9ec",
   "metadata": {},
   "outputs": [],
   "source": [
    "fig_pie_season = px.pie(\n",
    "    df_season, \n",
    "    values='Count', \n",
    "    names='Season', \n",
    "    title='Order Distribution by Season',\n",
    "    hole=0.3, \n",
    "    height=350, \n",
    "    width=400, \n",
    "    color='Season',\n",
    "    color_discrete_map={'Fall': 'orange', 'Spring': 'lightgreen', 'Summer': 'yellow', 'Winter': 'silver'}\n",
    ")\n",
    "\n",
    "fig_pie_season.update_traces(textposition='inside',\n",
    "                             textinfo='label+value+percent')\n",
    "fig_pie_season.update_layout(\n",
    "    paper_bgcolor='white',  # Transparent background\n",
    "    plot_bgcolor='white',  # Transparent plot area\n",
    "    showlegend=False,\n",
    "    margin=dict(t=50, b=30),\n",
    "    \n",
    ")\n",
    "fig_pie_season"
   ]
  },
  {
   "cell_type": "code",
   "execution_count": null,
   "id": "0e4e8330-ef79-4107-9252-79ce7e921164",
   "metadata": {},
   "outputs": [],
   "source": [
    "df_shipping = df.groupby('Shipping Type', observed=True).size().reset_index(name='Count')\n",
    "df_shipping = df_shipping.sort_values(by='Count', ascending = False).reset_index(drop=True)\n",
    "df_shipping\n"
   ]
  },
  {
   "cell_type": "code",
   "execution_count": null,
   "id": "25cf63c1-5aa1-450a-b61d-277938c4d0c4",
   "metadata": {},
   "outputs": [],
   "source": [
    "fig_shipping = px.pie(df_shipping, values='Count', names='Shipping Type', \n",
    "                      hole=0.3, height=350, width=400, color='Shipping Type',\n",
    "                      title = 'Distribution of Orders by Shipping Type'\n",
    ")\n",
    "\n",
    "fig_shipping.update_traces(textposition='inside',\n",
    "                             textinfo='value+percent')\n",
    "fig_shipping.update_layout(\n",
    "    paper_bgcolor='white',  # Transparent background\n",
    "    plot_bgcolor='white',  # Transparent plot area\n",
    "    showlegend=True,\n",
    "    margin=dict(t=50, b=30),\n",
    "    \n",
    ")\n",
    "fig_shipping"
   ]
  },
  {
   "cell_type": "code",
   "execution_count": null,
   "id": "4be0e1ac-02a6-49c3-8b7d-75d69f206331",
   "metadata": {},
   "outputs": [],
   "source": [
    "df_payment = df.groupby('Payment Method', observed=True).size().reset_index(name='Count')\n",
    "df_payment =df_payment.sort_values(by='Count', ascending = False).reset_index(drop=True)\n",
    "df_payment"
   ]
  },
  {
   "cell_type": "code",
   "execution_count": null,
   "id": "0607f8ed-d304-41f0-8730-9300dff5d7f1",
   "metadata": {},
   "outputs": [],
   "source": [
    "fig_payment = px.bar(df_payment, x='Payment Method', y='Count', height=350, width=600, text='Count', color='Payment Method',\n",
    "                    title='Number of Orders by Payment Method')\n",
    "\n",
    "fig_payment.update_layout(\n",
    "    paper_bgcolor='white',  # Transparent background\n",
    "    plot_bgcolor='white',  # Transparent plot area\n",
    "    yaxis={'showgrid':True, 'gridcolor':'LightGray'},\n",
    "    margin=dict(t=40, b=10, r=20),\n",
    "    showlegend=False\n",
    ")\n",
    "\n",
    "fig_payment"
   ]
  },
  {
   "cell_type": "code",
   "execution_count": null,
   "id": "d9a21a5c-8834-42ef-bb52-77a03fa16fd6",
   "metadata": {},
   "outputs": [],
   "source": [
    "df_purchase_frequency = df.groupby(['Frequency of Purchases'], observed=True).size().reset_index(name='Count')\n",
    "df_purchase_frequency = df_purchase_frequency.sort_values(by='Count', ascending = False).reset_index(drop=True)\n",
    "\n",
    "\n",
    "print(df_purchase_frequency)"
   ]
  },
  {
   "cell_type": "code",
   "execution_count": null,
   "id": "80fae9a6-70f1-4295-99ca-91bb3cb07f10",
   "metadata": {},
   "outputs": [],
   "source": [
    "fig_purchase_frequency = px.bar(df_purchase_frequency, \n",
    "                                x='Frequency of Purchases', \n",
    "                                y='Count', \n",
    "                                title='Order Count Per Frequency of Purchases',\n",
    "                               text='Count', height=300, width=700)\n",
    "\n",
    "\n",
    "fig_purchase_frequency.update_layout(\n",
    "    paper_bgcolor='white',  # Transparent background\n",
    "    plot_bgcolor='white',  # Transparent plot area\n",
    "    yaxis={'showgrid':True, 'gridcolor':'LightGray'},\n",
    "    margin=dict(t=40, b=10, r=20)\n",
    ")\n",
    "fig_purchase_frequency"
   ]
  },
  {
   "cell_type": "code",
   "execution_count": null,
   "id": "5f065119-3bf3-43bc-9950-8f0a1e021b3c",
   "metadata": {},
   "outputs": [],
   "source": [
    "bins = [1, 10, 20, 30, 40, 51]\n",
    "labels = ['1-10', '11-20', '21-30', '31-40', '41-50']\n",
    "df['Previous Purchases Group'] = pd.cut(df['Previous Purchases'], bins=bins, labels=labels, right=False)"
   ]
  },
  {
   "cell_type": "code",
   "execution_count": null,
   "id": "7fc80c9a-d8f8-424f-8930-dea08773ea24",
   "metadata": {},
   "outputs": [],
   "source": [
    "df.head()"
   ]
  },
  {
   "cell_type": "code",
   "execution_count": null,
   "id": "86d5460f-d70b-457d-b570-62ce60a77f81",
   "metadata": {},
   "outputs": [],
   "source": [
    "df_previous_purchases_bin = df.groupby('Previous Purchases Group', observed=True).size().reset_index(name='Count')\n",
    "df_previous_purchases_bin"
   ]
  },
  {
   "cell_type": "code",
   "execution_count": null,
   "id": "7d0d35bd-9309-4c1d-b203-7205a85826ac",
   "metadata": {
    "scrolled": true
   },
   "outputs": [],
   "source": [
    "fig_previous_purchases = px.bar(df_previous_purchases_bin, \n",
    "                                x='Previous Purchases Group', \n",
    "                                y='Count', \n",
    "                                title='Customer Distribution by Previous Purchases',\n",
    "                                text='Count', height=300, width=700)\n",
    "\n",
    "fig_previous_purchases.update_layout(\n",
    "    paper_bgcolor='white',  # Transparent background\n",
    "    plot_bgcolor='white',  # Transparent plot area\n",
    "    yaxis={'showgrid':True, 'gridcolor':'LightGray'},\n",
    "    margin=dict(t=40, b=10, r=20)\n",
    ")\n",
    "fig_previous_purchases"
   ]
  },
  {
   "cell_type": "code",
   "execution_count": null,
   "id": "54ea02a6-256b-4289-8422-c649d3ae10f2",
   "metadata": {},
   "outputs": [],
   "source": [
    "df_frequency_subscription = df.groupby(['Frequency of Purchases','Subscription Status'], observed=True).size().reset_index(name='Count')\n",
    "df_frequency_subscription = df_frequency_subscription.sort_values(by='Count', ascending=False).reset_index(drop=True)\n",
    "\n",
    "total_frequency_subscription = df.groupby('Frequency of Purchases', observed=True).size().reset_index(name='Count')\n",
    "total_frequency_subscription = total_frequency_subscription.sort_values(by='Count', ascending=False).reset_index(drop=True)\n",
    "\n",
    "\n",
    "print(df_frequency_subscription)\n",
    "print(total_frequency_subscription)"
   ]
  },
  {
   "cell_type": "code",
   "execution_count": null,
   "id": "f47306e2-cf0e-4b9d-a9f8-732606159665",
   "metadata": {},
   "outputs": [],
   "source": [
    "fig_frequency_subscription = px.bar(df_frequency_subscription, \n",
    "                                    x='Frequency of Purchases', \n",
    "                                    y='Count', \n",
    "                                    title='Order Distribution Across Frequency of Purchases and Subscription Status',\n",
    "                                    color='Subscription Status', \n",
    "                                    text='Count',height=300)\n",
    "\n",
    "for i, row in total_frequency_subscription.iterrows():\n",
    "    fig_frequency_subscription.add_annotation(\n",
    "        x=row['Frequency of Purchases'],\n",
    "        y=row['Count'],\n",
    "        text=str(row['Count']),\n",
    "        showarrow=False,\n",
    "        font=dict(size=12, color='black'),\n",
    "        xanchor='auto',\n",
    "        yanchor='bottom'\n",
    "    )\n",
    "\n",
    "fig_frequency_subscription.update_layout(\n",
    "    paper_bgcolor='white',  # Transparent background\n",
    "    plot_bgcolor='white',  # Transparent plot area\n",
    "    yaxis={'showgrid':True, 'gridcolor':'LightGray'},\n",
    "    legend=dict(\n",
    "        orientation='h',  # Horizontal\n",
    "        yanchor='bottom', \n",
    "        y=-0.4,  # Position below the plot\n",
    "        xanchor='center',\n",
    "        x=0.5  # Centered horizontally\n",
    "    ),\n",
    "    margin=dict(t=40, b=10, r=20)\n",
    ")\n",
    "fig_frequency_subscription"
   ]
  },
  {
   "cell_type": "code",
   "execution_count": null,
   "id": "4f5783c9-612e-4af1-b3c7-f197adab6aa6",
   "metadata": {},
   "outputs": [],
   "source": [
    "df_payment_summary = df.groupby(['Payment Method','Preferred Payment Method']).size().reset_index(name='Count')\n",
    "df_payment_summary"
   ]
  },
  {
   "cell_type": "code",
   "execution_count": null,
   "id": "0e182f9d-b46a-40fc-ab82-c1b8ad2f691d",
   "metadata": {},
   "outputs": [],
   "source": [
    "import plotly.express as px\n",
    "\n",
    "# Create the heatmap\n",
    "fig_payment_heatmap = px.density_heatmap(\n",
    "    df_payment_summary,\n",
    "    x='Payment Method',\n",
    "    y='Preferred Payment Method',\n",
    "    z='Count',  # The count column for intensity\n",
    "    color_continuous_scale='Viridis',  # Choose a color scale\n",
    "    title='Heatmap of Payment Method vs Preferred Payment Method',\n",
    "    text_auto=True,\n",
    "    width=700, height=300\n",
    ")\n",
    "\n",
    "# Display the heatmap\n",
    "fig_payment_heatmap.show()\n"
   ]
  },
  {
   "cell_type": "code",
   "execution_count": null,
   "id": "38f12a83-0352-49f8-aa0b-9952d270c6ed",
   "metadata": {},
   "outputs": [],
   "source": [
    "df_promo_summary = df.groupby(['Discount Applied', 'Promo Code Used']).size().reset_index(name='Count')\n",
    "df_promo_summary"
   ]
  },
  {
   "cell_type": "code",
   "execution_count": null,
   "id": "60d31431-1135-4612-bf67-77738db72f71",
   "metadata": {},
   "outputs": [],
   "source": [
    "fig_promo_pie=px.pie(df_promo_summary, \n",
    "                     values='Count', names='Discount Applied',\n",
    "                     color='Discount Applied',\n",
    "                     title='Distribution of Orders by Discount Status',\n",
    "                     hole=0.3,height=300, width=400)\n",
    "fig_promo_pie\n",
    "\n",
    "\n",
    "fig_promo_pie.update_traces(textposition='inside',\n",
    "                             textinfo='value+percent')\n",
    "fig_promo_pie.update_layout(\n",
    "    paper_bgcolor='white',  # Transparent background\n",
    "    plot_bgcolor='white',  # Transparent plot area\n",
    "    showlegend=True,\n",
    "    margin=dict(t=50, b=30),\n",
    ")\n",
    "\n",
    "fig_promo_pie"
   ]
  },
  {
   "cell_type": "code",
   "execution_count": null,
   "id": "92725ccc-6aec-4e37-8f6b-d8ee016426d3",
   "metadata": {},
   "outputs": [],
   "source": [
    "bins = [0,1, 2, 3, 4, 5.1]\n",
    "labels = ['0 - 1.0', '1.0 - 2.0', '2.0 - 3.0', '3.0 - 4.0', '4.0 - 5.0']\n",
    "df['Review Rating Group'] = pd.cut(df['Review Rating'], bins=bins, labels=labels, right=False)\n",
    "df.head()"
   ]
  },
  {
   "cell_type": "code",
   "execution_count": null,
   "id": "68dd2365-a2c4-43a1-81f0-11199f9b65a0",
   "metadata": {},
   "outputs": [],
   "source": [
    "df_review_rating_group=df.groupby(['Review Rating Group'], observed=True).size().reset_index(name='Count')\n",
    "df_review_rating_group"
   ]
  },
  {
   "cell_type": "code",
   "execution_count": null,
   "id": "7fe92881-fc87-4d9c-9140-1557c2fba11c",
   "metadata": {},
   "outputs": [],
   "source": [
    "fig_review_rating=px.bar(df_review_rating_group, \n",
    "                         x='Review Rating Group', \n",
    "                         y='Count', \n",
    "                         title='Distribution of Reviews Across Rating Groups', \n",
    "                         text='Count',\n",
    "                        height=300, width=700)\n",
    "\n",
    "fig_review_rating.update_layout(\n",
    "    paper_bgcolor='white',  # Transparent background\n",
    "    plot_bgcolor='white',  # Transparent plot area\n",
    "    yaxis={'showgrid':True, 'gridcolor':'LightGray'},\n",
    "    margin=dict(t=40, b=10, r=20)\n",
    ")\n",
    "fig_review_rating"
   ]
  },
  {
   "cell_type": "code",
   "execution_count": null,
   "id": "513ae830-a120-457e-9350-32f989c77b46",
   "metadata": {},
   "outputs": [],
   "source": [
    "df_review_category=df.groupby('Category')['Review Rating'].mean().reset_index()\n",
    "df_review_category.columns = ['Category','Average Review Rating']\n",
    "df_review_category['Average Review Rating']=df_review_category['Average Review Rating'].round(2)\n",
    "df_review_category = df_review_category.sort_values(by='Average Review Rating', ascending=False).reset_index(drop=True)\n",
    "df_review_category"
   ]
  },
  {
   "cell_type": "code",
   "execution_count": null,
   "id": "00e015c1-d08a-493a-be50-692ecdac6d0b",
   "metadata": {},
   "outputs": [],
   "source": [
    "fig_avg_review_rating = px.bar(df_review_category, \n",
    "                               x='Category',\n",
    "                               y='Average Review Rating', \n",
    "                               text='Average Review Rating', \n",
    "                               title='Average Review Rating by Category',\n",
    "                               color='Category',\n",
    "                              height=300, width=700)\n",
    "fig_avg_review_rating.update_layout(\n",
    "    paper_bgcolor='white',  # Transparent background\n",
    "    plot_bgcolor='white',  # Transparent plot area\n",
    "    yaxis={'showgrid':True, 'gridcolor':'LightGray'},\n",
    "    margin=dict(t=40, b=10, r=20)\n",
    ")\n",
    "\n",
    "fig_avg_review_rating"
   ]
  },
  {
   "cell_type": "code",
   "execution_count": null,
   "id": "437e49dd-2d6f-4900-80e1-6c2390e68386",
   "metadata": {},
   "outputs": [],
   "source": [
    "df_review_items=df.groupby('Item Purchased')['Review Rating'].mean().reset_index()\n",
    "df_review_items.columns = ['Item Purchased','Average Review Rating']\n",
    "df_review_items['Average Review Rating']=df_review_items['Average Review Rating'].round(2)\n",
    "df_review_items = df_review_items.sort_values(by='Average Review Rating', ascending=False).reset_index(drop=True)\n",
    "df_review_items"
   ]
  },
  {
   "cell_type": "code",
   "execution_count": null,
   "id": "7a1ad164-16f9-450e-b3de-dda8e8fda964",
   "metadata": {},
   "outputs": [],
   "source": [
    "fig_avg_review_rating_item = px.bar(df_review_items, \n",
    "                               x='Average Review Rating',\n",
    "                               y='Item Purchased', \n",
    "                               text='Average Review Rating', \n",
    "                               title='Average Review Rating by Item Purchased',\n",
    "                               color='Item Purchased',\n",
    "                              height=700, width=650,\n",
    "                                   orientation='h')\n",
    "fig_avg_review_rating_item.update_layout(\n",
    "    paper_bgcolor='white',  # Transparent background\n",
    "    plot_bgcolor='white',  # Transparent plot area\n",
    "    xaxis={'showgrid':True, 'gridcolor':'LightGray'},\n",
    "    margin=dict(t=40, b=10, r=20),\n",
    "    showlegend=False\n",
    ")\n",
    "\n",
    "fig_avg_review_rating_item"
   ]
  },
  {
   "cell_type": "code",
   "execution_count": null,
   "id": "1993420e-dd3f-4178-9d6d-da96e484dcde",
   "metadata": {},
   "outputs": [],
   "source": []
  }
 ],
 "metadata": {
  "kernelspec": {
   "display_name": "Python 3 (ipykernel)",
   "language": "python",
   "name": "python3"
  },
  "language_info": {
   "codemirror_mode": {
    "name": "ipython",
    "version": 3
   },
   "file_extension": ".py",
   "mimetype": "text/x-python",
   "name": "python",
   "nbconvert_exporter": "python",
   "pygments_lexer": "ipython3",
   "version": "3.13.0"
  }
 },
 "nbformat": 4,
 "nbformat_minor": 5
}
